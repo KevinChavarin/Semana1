{
 "cells": [
  {
   "cell_type": "markdown",
   "metadata": {},
   "source": [
    "# Ejercicio 1"
   ]
  },
  {
   "cell_type": "code",
   "execution_count": null,
   "metadata": {},
   "outputs": [],
   "source": [
    "text = \"\"\"Interesting facts about the Moon. The Moon is Earth's only satellite. There are several interesting facts about the Moon and how it affects life here on Earth. \n",
    "On average, the Moon moves 4cm away from the Earth every year. This yearly drift is not significant enough to cause immediate effects on Earth. The highest daylight temperature of the Moon is 127 C.\"\"\"\n",
    "\n",
    "text_div=text.split('.')\n",
    "key_words=(\"average\",\"temperature\",\"distance\")\n",
    "for sentence in text_div:\n",
    "    for keyword in key_words:\n",
    "        if keyword in sentence:\n",
    "            print(sentence)\n",
    "            break\n",
    "\n",
    "for sentence in text_div:\n",
    "    for keyword in key_words:\n",
    "        if keyword in sentence:\n",
    "            print(sentence.replace(\"C\", \"Celsius\"))\n",
    "            break"
   ]
  },
  {
   "cell_type": "markdown",
   "metadata": {},
   "source": [
    "# Ejercicio 2"
   ]
  },
  {
   "cell_type": "code",
   "execution_count": 13,
   "metadata": {},
   "outputs": [
    {
     "name": "stdout",
     "output_type": "stream",
     "text": [
      "--------------------------------------------------------------------------------\n",
      "Nombre del planeta: Earth\n",
      "Gravedad en Earth: 1.6199999999999999m/s2\n",
      "--------------------------------------------------------------------------------\n",
      "Nombre del planeta: Earth\n",
      "Gravedad en Earth: 1.6199999999999999m/s2\n",
      "\n",
      "Datos de Gravedad sobre: Moon\n",
      "Nombre del planeta: Earth\n",
      "Gravedad del planeta: 0.00162m/s2\n",
      "\n",
      "Datos de Gravedad sobre: Moon\n",
      "Nombre del planeta: Earth\n",
      "Gravedad del planeta: 1.6199999999999999m/s2\n"
     ]
    }
   ],
   "source": [
    "name=\"Moon\"\n",
    "gravity=0.00162\n",
    "planet=\"Earth\"\n",
    "\n",
    "title=f'Datos de gravedad sobre {name}'\n",
    "meters=gravity*1000\n",
    "\n",
    "hechos=f\"\"\"{'-'*80}\n",
    "Nombre del planeta: {planet}\n",
    "Gravedad en {planet}: {meters}m/s2\"\"\"\n",
    "\n",
    "template=f\"\"\"{title.title()}\n",
    "{hechos}\"\"\"\n",
    "print(hechos)\n",
    "\n",
    "planeta='Marte'\n",
    "gravedad='0.00143'\n",
    "nombre='Ganímedes'\n",
    "print(hechos)\n",
    "\n",
    "new_template=\"\"\"\n",
    "Datos de Gravedad sobre: {nombre}\n",
    "Nombre del planeta: {planeta}\n",
    "Gravedad del planeta: {gravedad}m/s2\"\"\"\n",
    "print(new_template.format(nombre=name, planeta=planet, gravedad=gravity))\n",
    "print(new_template.format(nombre=name, planeta=planet, gravedad=gravity*1000))"
   ]
  }
 ],
 "metadata": {
  "interpreter": {
   "hash": "32c10601aeb2b5ccf250b55ab04b705574b5f62b74ec7162aafc33f345eb249f"
  },
  "kernelspec": {
   "display_name": "Python 3.10.2 64-bit",
   "language": "python",
   "name": "python3"
  },
  "language_info": {
   "codemirror_mode": {
    "name": "ipython",
    "version": 3
   },
   "file_extension": ".py",
   "mimetype": "text/x-python",
   "name": "python",
   "nbconvert_exporter": "python",
   "pygments_lexer": "ipython3",
   "version": "3.10.2"
  },
  "orig_nbformat": 4
 },
 "nbformat": 4,
 "nbformat_minor": 2
}
