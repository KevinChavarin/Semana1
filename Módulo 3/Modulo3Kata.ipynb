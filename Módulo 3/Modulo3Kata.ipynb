{
 "cells": [
  {
   "cell_type": "code",
   "execution_count": 1,
   "metadata": {},
   "outputs": [
    {
     "name": "stdout",
     "output_type": "stream",
     "text": [
      "¡Un asteroide viene a toda velocidad a la tierra!\n"
     ]
    }
   ],
   "source": [
    "asteroide=49\n",
    "\n",
    "if asteroide>25:\n",
    "    print(\"¡Un asteroide viene a toda velocidad a la tierra!\")\n",
    "else:\n",
    "    print(\"Todo bien aquí\")\n"
   ]
  },
  {
   "cell_type": "code",
   "execution_count": 2,
   "metadata": {},
   "outputs": [
    {
     "name": "stdout",
     "output_type": "stream",
     "text": [
      "Todo va normalmente\n"
     ]
    }
   ],
   "source": [
    "asteroide=19\n",
    "\n",
    "if asteroide>=20:\n",
    "    print(\"El asteroide brilla con un rayo de luz!\")\n",
    "elif asteroide==20:\n",
    "    print(\"Hay una luz en el cielo!\")\n",
    "else:\n",
    "    print(\"Todo va normalmente\")"
   ]
  },
  {
   "cell_type": "code",
   "execution_count": null,
   "metadata": {},
   "outputs": [],
   "source": [
    "velocidadAsteroide=25\n",
    "tamanoAsteroide=55\n",
    "\n",
    "if velocidadAsteroide>25 and tamanoAsteroide>25:\n",
    "    print(\"¡Peligro! Un asteroide viene a toda velocidad a la tierra\")\n",
    "elif velocidadAsteroide>=20:\n",
    "    print(\"El asteroide emite una luz brillante\")\n",
    "elif tamanoAsteroide<25:\n",
    "    print(\"No hay peligro\")\n",
    "else:\n",
    "    print(\"Es un día normal como cualquier otro\")"
   ]
  }
 ],
 "metadata": {
  "interpreter": {
   "hash": "32c10601aeb2b5ccf250b55ab04b705574b5f62b74ec7162aafc33f345eb249f"
  },
  "kernelspec": {
   "display_name": "Python 3.10.2 64-bit",
   "language": "python",
   "name": "python3"
  },
  "language_info": {
   "codemirror_mode": {
    "name": "ipython",
    "version": 3
   },
   "file_extension": ".py",
   "mimetype": "text/x-python",
   "name": "python",
   "nbconvert_exporter": "python",
   "pygments_lexer": "ipython3",
   "version": "3.10.2"
  },
  "orig_nbformat": 4
 },
 "nbformat": 4,
 "nbformat_minor": 2
}
