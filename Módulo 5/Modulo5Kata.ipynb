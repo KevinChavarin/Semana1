{
 "cells": [
  {
   "cell_type": "markdown",
   "metadata": {},
   "source": [
    "# Ejercicio 1"
   ]
  },
  {
   "cell_type": "code",
   "execution_count": null,
   "metadata": {},
   "outputs": [],
   "source": [
    "Tierra=149597870\n",
    "Jupiter=778547200\n",
    "dif=Jupiter-Tierra\n",
    "distancia=dif*0.621\n",
    "print(dif)\n",
    "print(distancia)"
   ]
  },
  {
   "cell_type": "markdown",
   "metadata": {},
   "source": [
    "# Ejercicio 2"
   ]
  },
  {
   "cell_type": "code",
   "execution_count": 9,
   "metadata": {},
   "outputs": [
    {
     "name": "stdout",
     "output_type": "stream",
     "text": [
      "-1283900000\n",
      "797301900.0\n"
     ]
    }
   ],
   "source": [
    "primerPlaneta=input(\"Introduzca la distancia del sol del primer planeta\")\n",
    "segundoPlaneta=input(\"Introduzca la distancia del sol del segundo planeta\")\n",
    "\n",
    "primerPlaneta=int(primerPlaneta)\n",
    "segundoPlaneta=int(segundoPlaneta)\n",
    "\n",
    "distancia=primerPlaneta-segundoPlaneta\n",
    "print(distancia)\n",
    "\n",
    "distanciaMillas=distancia*0.621\n",
    "print(abs(distanciaMillas))\n"
   ]
  }
 ],
 "metadata": {
  "interpreter": {
   "hash": "32c10601aeb2b5ccf250b55ab04b705574b5f62b74ec7162aafc33f345eb249f"
  },
  "kernelspec": {
   "display_name": "Python 3.10.2 64-bit",
   "language": "python",
   "name": "python3"
  },
  "language_info": {
   "codemirror_mode": {
    "name": "ipython",
    "version": 3
   },
   "file_extension": ".py",
   "mimetype": "text/x-python",
   "name": "python",
   "nbconvert_exporter": "python",
   "pygments_lexer": "ipython3",
   "version": "3.10.2"
  },
  "orig_nbformat": 4
 },
 "nbformat": 4,
 "nbformat_minor": 2
}
